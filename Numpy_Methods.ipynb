{
  "nbformat": 4,
  "nbformat_minor": 0,
  "metadata": {
    "colab": {
      "provenance": [],
      "authorship_tag": "ABX9TyMChT1dX/gdv/PPiMauXBZ0",
      "include_colab_link": true
    },
    "kernelspec": {
      "name": "python3",
      "display_name": "Python 3"
    },
    "language_info": {
      "name": "python"
    }
  },
  "cells": [
    {
      "cell_type": "markdown",
      "metadata": {
        "id": "view-in-github",
        "colab_type": "text"
      },
      "source": [
        "<a href=\"https://colab.research.google.com/github/Udaykiran06-art/NUMPY-METHODS/blob/main/Numpy_Methods.ipynb\" target=\"_parent\"><img src=\"https://colab.research.google.com/assets/colab-badge.svg\" alt=\"Open In Colab\"/></a>"
      ]
    },
    {
      "cell_type": "code",
      "execution_count": null,
      "metadata": {
        "colab": {
          "base_uri": "https://localhost:8080/"
        },
        "id": "-V7WdkUwXrPM",
        "outputId": "31528639-cfc5-4f0d-8f98-c8182da13908"
      },
      "outputs": [
        {
          "output_type": "stream",
          "name": "stdout",
          "text": [
            "[[10 20 30]\n",
            " [40 50 60]]\n",
            "10\n"
          ]
        }
      ],
      "source": [
        "#Creating min()method\n",
        "import numpy as np\n",
        "details = np.array([[10,20,30],[40,50,60]])\n",
        "values = np.array(details)\n",
        "print(values)\n",
        "print(values.min())\n"
      ]
    },
    {
      "cell_type": "code",
      "source": [
        "#Creating max()method\n",
        "import numpy as np\n",
        "details = np.array([[10,20,30],[40,50,60]])\n",
        "values = np.array(details)\n",
        "print(values)\n",
        "print(values.max())"
      ],
      "metadata": {
        "colab": {
          "base_uri": "https://localhost:8080/"
        },
        "id": "LhcLXfNfbwH4",
        "outputId": "2a0314c6-f379-4677-8d0b-d7e98f4b9729"
      },
      "execution_count": null,
      "outputs": [
        {
          "output_type": "stream",
          "name": "stdout",
          "text": [
            "[[10 20 30]\n",
            " [40 50 60]]\n",
            "60\n"
          ]
        }
      ]
    },
    {
      "cell_type": "code",
      "source": [
        "#Creating sum()method\n",
        "import numpy as np\n",
        "details = np.array([[10,20,30],[40,50,60]])\n",
        "values = np.array(details)\n",
        "print(values)\n",
        "print(values.sum())"
      ],
      "metadata": {
        "colab": {
          "base_uri": "https://localhost:8080/"
        },
        "id": "nVv8-f4ecPBb",
        "outputId": "973fbbb9-48f8-4910-f910-2446cbad85a6"
      },
      "execution_count": null,
      "outputs": [
        {
          "output_type": "stream",
          "name": "stdout",
          "text": [
            "[[10 20 30]\n",
            " [40 50 60]]\n",
            "210\n"
          ]
        }
      ]
    },
    {
      "cell_type": "code",
      "source": [
        "#Creating reshape()method\n",
        "import numpy as np\n",
        "details = np.array([[10,20,30],[40,50,60]])\n",
        "values = np.array(details)\n",
        "print(values)\n",
        "print()\n",
        "print(values.reshape(1,6))"
      ],
      "metadata": {
        "colab": {
          "base_uri": "https://localhost:8080/"
        },
        "id": "1lWlX6oYcVmI",
        "outputId": "f5104466-6eaa-4b08-8eea-fd2642574f07"
      },
      "execution_count": null,
      "outputs": [
        {
          "output_type": "stream",
          "name": "stdout",
          "text": [
            "[[10 20 30]\n",
            " [40 50 60]]\n",
            "\n",
            "[[10 20 30 40 50 60]]\n"
          ]
        }
      ]
    },
    {
      "cell_type": "code",
      "source": [
        "#Creating reshape()method\n",
        "import numpy as np\n",
        "details = np.array([[10,20,30],[40,50,60]])\n",
        "values = np.array(details)\n",
        "print(values)\n",
        "print()\n",
        "print(values.reshape(3,2))"
      ],
      "metadata": {
        "colab": {
          "base_uri": "https://localhost:8080/"
        },
        "id": "u4_lDzhmcnVy",
        "outputId": "7d0046b9-c959-4b9e-c49f-e1c4d09c7f35"
      },
      "execution_count": null,
      "outputs": [
        {
          "output_type": "stream",
          "name": "stdout",
          "text": [
            "[[10 20 30]\n",
            " [40 50 60]]\n",
            "\n",
            "[[10 20]\n",
            " [30 40]\n",
            " [50 60]]\n"
          ]
        }
      ]
    },
    {
      "cell_type": "code",
      "source": [
        "#Creating reshape()method\n",
        "import numpy as np\n",
        "details = np.array([[10,20,30],[40,50,60]])\n",
        "values = np.array(details)\n",
        "print(values)\n",
        "print()\n",
        "print(values.reshape(6,1))"
      ],
      "metadata": {
        "colab": {
          "base_uri": "https://localhost:8080/"
        },
        "id": "B7JSdJUoc0Lz",
        "outputId": "cde2e425-13f4-4b2b-d02a-2eec3cc93806"
      },
      "execution_count": null,
      "outputs": [
        {
          "output_type": "stream",
          "name": "stdout",
          "text": [
            "[[10 20 30]\n",
            " [40 50 60]]\n",
            "\n",
            "[[10]\n",
            " [20]\n",
            " [30]\n",
            " [40]\n",
            " [50]\n",
            " [60]]\n"
          ]
        }
      ]
    },
    {
      "cell_type": "code",
      "source": [
        "#Creating count_nonzero()method\n",
        "import numpy as np\n",
        "details = np.array([[10,20,30,0],[40,50,60,0]])\n",
        "values = np.array(details)\n",
        "print(values)\n",
        "print(np.count_nonzero(values))"
      ],
      "metadata": {
        "colab": {
          "base_uri": "https://localhost:8080/"
        },
        "id": "bfg35FbOdA4g",
        "outputId": "a8e48eda-8c40-42fd-95c5-faae010ac073"
      },
      "execution_count": null,
      "outputs": [
        {
          "output_type": "stream",
          "name": "stdout",
          "text": [
            "[[10 20 30  0]\n",
            " [40 50 60  0]]\n",
            "6\n"
          ]
        }
      ]
    },
    {
      "cell_type": "code",
      "source": [
        "#Creating sort()method\n",
        "import numpy as np\n",
        "details = np.array([[55,45,12],[35,25,1]])\n",
        "values = np.array(details)\n",
        "print(values)\n",
        "values.sort()\n",
        "print()\n",
        "print(values)"
      ],
      "metadata": {
        "colab": {
          "base_uri": "https://localhost:8080/"
        },
        "id": "-xGPVhJ1dZb3",
        "outputId": "98876b8a-763a-4d8d-cca1-ae2d71bd754d"
      },
      "execution_count": null,
      "outputs": [
        {
          "output_type": "stream",
          "name": "stdout",
          "text": [
            "[[55 45 12]\n",
            " [35 25  1]]\n",
            "\n",
            "[[12 45 55]\n",
            " [ 1 25 35]]\n"
          ]
        }
      ]
    },
    {
      "cell_type": "code",
      "source": [
        "#Creating flatten()method\n",
        "import numpy as np\n",
        "details = np.array([[10,20,30],[40,50,60]])\n",
        "values = np.array(details)\n",
        "print(values)\n",
        "print(values.flatten())"
      ],
      "metadata": {
        "colab": {
          "base_uri": "https://localhost:8080/"
        },
        "id": "zEVkEWn2eO3G",
        "outputId": "c6c55504-48de-45c8-ef7b-e6c5d3adfb2a"
      },
      "execution_count": null,
      "outputs": [
        {
          "output_type": "stream",
          "name": "stdout",
          "text": [
            "[[10 20 30]\n",
            " [40 50 60]]\n",
            "[10 20 30 40 50 60]\n"
          ]
        }
      ]
    },
    {
      "cell_type": "code",
      "source": [
        "#Creating adding value to array of values\n",
        "import numpy as np\n",
        "details = np.array([[10,20,30],[40,50,60]])\n",
        "values = np.array(details)\n",
        "print(values)\n",
        "print()\n",
        "print(values+2)"
      ],
      "metadata": {
        "colab": {
          "base_uri": "https://localhost:8080/"
        },
        "id": "J8lheocxeXId",
        "outputId": "78007042-6024-4747-9aba-8c9a4b92f196"
      },
      "execution_count": null,
      "outputs": [
        {
          "output_type": "stream",
          "name": "stdout",
          "text": [
            "[[10 20 30]\n",
            " [40 50 60]]\n",
            "\n",
            "[[12 22 32]\n",
            " [42 52 62]]\n"
          ]
        }
      ]
    },
    {
      "cell_type": "code",
      "source": [
        "#Creating Diagonal matrix\n",
        "import numpy as np\n",
        "matrix = np.array([[1,2,3],[4,5,6],[7,8,9]])\n",
        "print(matrix)\n",
        "print()\n",
        "print(matrix.diagonal())"
      ],
      "metadata": {
        "colab": {
          "base_uri": "https://localhost:8080/"
        },
        "id": "A34nbfp9v5CL",
        "outputId": "2872ce0d-46ad-4185-a379-b54531b9af2e"
      },
      "execution_count": null,
      "outputs": [
        {
          "output_type": "stream",
          "name": "stdout",
          "text": [
            "[[1 2 3]\n",
            " [4 5 6]\n",
            " [7 8 9]]\n",
            "\n",
            "[1 5 9]\n"
          ]
        }
      ]
    },
    {
      "cell_type": "code",
      "source": [
        "#Creating the trace of a matrix\n",
        "import numpy as np\n",
        "matrxi = np.array([[1,2,3],[4,5,6],[7,8,9]])\n",
        "print(matrix)\n",
        "print()\n",
        "print(matrix.trace())"
      ],
      "metadata": {
        "colab": {
          "base_uri": "https://localhost:8080/"
        },
        "id": "a7TncY_cwZ2R",
        "outputId": "6e4d1cd5-5428-4288-a6fc-85c2844e2e11"
      },
      "execution_count": null,
      "outputs": [
        {
          "output_type": "stream",
          "name": "stdout",
          "text": [
            "[[1 2 3]\n",
            " [4 5 6]\n",
            " [7 8 9]]\n",
            "\n",
            "15\n"
          ]
        }
      ]
    },
    {
      "cell_type": "code",
      "source": [
        "#Creating the trace of a matrix\n",
        "import numpy as np\n",
        "matrxi = np.array([[1,2,3],[4,5,6],[7,8,9]])\n",
        "print(matrix)\n",
        "print()\n",
        "print(sum(matrix.diagonal()))"
      ],
      "metadata": {
        "colab": {
          "base_uri": "https://localhost:8080/"
        },
        "id": "rubVmNDmw-SO",
        "outputId": "9eca0a6e-bd1b-428e-ddeb-8fddc367ee5b"
      },
      "execution_count": null,
      "outputs": [
        {
          "output_type": "stream",
          "name": "stdout",
          "text": [
            "[[1 2 3]\n",
            " [4 5 6]\n",
            " [7 8 9]]\n",
            "\n",
            "15\n"
          ]
        }
      ]
    },
    {
      "cell_type": "code",
      "source": [
        "#Creating adding and subtracting matrices\n",
        "#Adding two matrices\n",
        "import numpy as np\n",
        "matrix_a = np.array([[1,2,3],[4,5,6],[7,8,9]])\n",
        "matrix_b = np.array([[1,1,2],[2,2,3],[3,3,4]])\n",
        "print(matrix_a)\n",
        "print()\n",
        "print(matrix_b)\n",
        "print()\n",
        "print(np.add(matrix_a,matrix_b))"
      ],
      "metadata": {
        "colab": {
          "base_uri": "https://localhost:8080/"
        },
        "id": "JtXvZECZxIiF",
        "outputId": "87fe8622-162d-425e-d15b-4c545e38345e"
      },
      "execution_count": null,
      "outputs": [
        {
          "output_type": "stream",
          "name": "stdout",
          "text": [
            "[[1 2 3]\n",
            " [4 5 6]\n",
            " [7 8 9]]\n",
            "\n",
            "[[1 1 2]\n",
            " [2 2 3]\n",
            " [3 3 4]]\n",
            "\n",
            "[[ 2  3  5]\n",
            " [ 6  7  9]\n",
            " [10 11 13]]\n"
          ]
        }
      ]
    },
    {
      "cell_type": "code",
      "source": [
        "#Subtracting two matrices\n",
        "import numpy as np\n",
        "matrix_a = np.array([[1,2,3],[4,5,6],[7,8,9]])\n",
        "matrix_b = np.array([[1,1,2],[2,2,3],[3,3,4]])\n",
        "print(matrix_a)\n",
        "print()\n",
        "print(matrix_b)\n",
        "print()\n",
        "print(np.subtract(matrix_a,matrix_b))"
      ],
      "metadata": {
        "colab": {
          "base_uri": "https://localhost:8080/"
        },
        "id": "-0OHNEoQyYif",
        "outputId": "01ff1648-4ecb-4c72-ad3c-0fee8ccacb72"
      },
      "execution_count": null,
      "outputs": [
        {
          "output_type": "stream",
          "name": "stdout",
          "text": [
            "[[1 2 3]\n",
            " [4 5 6]\n",
            " [7 8 9]]\n",
            "\n",
            "[[1 1 2]\n",
            " [2 2 3]\n",
            " [3 3 4]]\n",
            "\n",
            "[[0 1 1]\n",
            " [2 3 3]\n",
            " [4 5 5]]\n"
          ]
        }
      ]
    },
    {
      "cell_type": "code",
      "source": [
        "#Adding two matrices\n",
        "import numpy as np\n",
        "matrix_a = np.array([[1,2,3],[4,5,6],[7,8,9]])\n",
        "matrix_b = np.array([[1,1,2],[2,2,3],[3,3,4]])\n",
        "print(matrix_a)\n",
        "print()\n",
        "print(matrix_b)\n",
        "print()\n",
        "print(matrix_a+matrix_b)"
      ],
      "metadata": {
        "colab": {
          "base_uri": "https://localhost:8080/"
        },
        "id": "Q6kjm7kUyy2g",
        "outputId": "9927acba-f61b-482a-8b75-ee23460f1fe5"
      },
      "execution_count": null,
      "outputs": [
        {
          "output_type": "stream",
          "name": "stdout",
          "text": [
            "[[1 2 3]\n",
            " [4 5 6]\n",
            " [7 8 9]]\n",
            "\n",
            "[[1 1 2]\n",
            " [2 2 3]\n",
            " [3 3 4]]\n",
            "\n",
            "[[ 2  3  5]\n",
            " [ 6  7  9]\n",
            " [10 11 13]]\n"
          ]
        }
      ]
    },
    {
      "cell_type": "code",
      "source": [
        "#Subtracting two matrices\n",
        "import numpy as np\n",
        "matrix_a = np.array([[1,2,3],[4,5,6],[7,8,9]])\n",
        "matrix_b = np.array([[1,1,2],[2,2,3],[3,3,4]])\n",
        "print(matrix_a)\n",
        "print()\n",
        "print(matrix_b)\n",
        "print()\n",
        "print(matrix_a-matrix_b)"
      ],
      "metadata": {
        "colab": {
          "base_uri": "https://localhost:8080/"
        },
        "id": "3MSGdtq9zFiT",
        "outputId": "379534bc-4c07-4f5e-e25a-defdc1e2ae98"
      },
      "execution_count": null,
      "outputs": [
        {
          "output_type": "stream",
          "name": "stdout",
          "text": [
            "[[1 2 3]\n",
            " [4 5 6]\n",
            " [7 8 9]]\n",
            "\n",
            "[[1 1 2]\n",
            " [2 2 3]\n",
            " [3 3 4]]\n",
            "\n",
            "[[0 1 1]\n",
            " [2 3 3]\n",
            " [4 5 5]]\n"
          ]
        }
      ]
    }
  ]
}